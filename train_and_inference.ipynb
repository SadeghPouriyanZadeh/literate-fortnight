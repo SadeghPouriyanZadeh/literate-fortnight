{
 "cells": [
  {
   "cell_type": "code",
   "execution_count": 4,
   "metadata": {},
   "outputs": [],
   "source": [
    "import json\n",
    "from pathlib import Path\n",
    "\n",
    "import numpy as np\n",
    "import pandas as pd\n",
    "import xgboost as xg\n",
    "from sklearn.metrics import mean_squared_error as MSE\n",
    "from sklearn.metrics import r2_score\n",
    "from sklearn.model_selection import train_test_split\n",
    "\n",
    "from utils.encoding import encode\n",
    "from utils.preprocessing import preprocess\n",
    "from utils.scaling import scale\n"
   ]
  },
  {
   "cell_type": "markdown",
   "metadata": {},
   "source": [
    "preprocess, encode, scale"
   ]
  },
  {
   "cell_type": "code",
   "execution_count": 5,
   "metadata": {},
   "outputs": [],
   "source": [
    "csv_path = Path('data/raw/insurance.csv')\n",
    "labels_to_drop = ['region']\n",
    "save_path = Path('data/processed/insurance_processed.csv')\n",
    "\n",
    "processed_csv_path = Path('data/processed/insurance_processed.csv')\n",
    "encodings_save_path = Path('data/encoded/encodings.json')\n",
    "encoded_save_path = Path('data/encoded/insurance_encoded.csv')\n",
    "\n",
    "encoded_csv_path = Path('data/encoded/insurance_encoded.csv')\n",
    "stats_save_path = Path('data/scaled/stats.json')\n",
    "scaled_save_path = Path('data/scaled/insurance_scaled.csv')"
   ]
  },
  {
   "cell_type": "code",
   "execution_count": 6,
   "metadata": {},
   "outputs": [],
   "source": [
    "preprocess(\n",
    "    csv_path=csv_path,\n",
    "    labels_to_drop=labels_to_drop,\n",
    "    save_path=save_path\n",
    ")\n"
   ]
  },
  {
   "cell_type": "code",
   "execution_count": 7,
   "metadata": {},
   "outputs": [],
   "source": [
    "encode(\n",
    "    csv_path=processed_csv_path,\n",
    "    csv_save_path=encoded_save_path,\n",
    "    json_save_path=encodings_save_path\n",
    ")"
   ]
  },
  {
   "cell_type": "code",
   "execution_count": 8,
   "metadata": {},
   "outputs": [],
   "source": [
    "scale(\n",
    "    csv_path=encoded_csv_path,\n",
    "    csv_save_path=scaled_save_path,\n",
    "    json_save_path=stats_save_path\n",
    ")"
   ]
  },
  {
   "cell_type": "markdown",
   "metadata": {},
   "source": [
    "train"
   ]
  },
  {
   "cell_type": "code",
   "execution_count": 9,
   "metadata": {},
   "outputs": [],
   "source": [
    "with open('data/scaled/stats.json', 'r') as file:\n",
    "    stats = json.load(file)"
   ]
  },
  {
   "cell_type": "code",
   "execution_count": 10,
   "metadata": {},
   "outputs": [],
   "source": [
    "df = pd.read_csv(scaled_save_path)"
   ]
  },
  {
   "cell_type": "code",
   "execution_count": 11,
   "metadata": {},
   "outputs": [],
   "source": [
    "X = df.drop(columns=[\"charges\"])\n",
    "y = df[\"charges\"]"
   ]
  },
  {
   "cell_type": "code",
   "execution_count": 12,
   "metadata": {},
   "outputs": [],
   "source": [
    "X_train, X_test, y_train, y_test = train_test_split(\n",
    "    X, y, test_size=0.2, random_state=42\n",
    ")"
   ]
  },
  {
   "cell_type": "code",
   "execution_count": 15,
   "metadata": {},
   "outputs": [
    {
     "name": "stdout",
     "output_type": "stream",
     "text": [
      "RMSE :  0.371959\n",
      "abs_error : 16614.922977070735 $\n"
     ]
    }
   ],
   "source": [
    "# Instantiation\n",
    "xgb_r = xg.XGBRegressor(objective ='reg:squarederror',\n",
    "                  n_estimators = 10, seed = 42)\n",
    " \n",
    "# Fitting the model\n",
    "xgb_r.fit(X_train.values, y_train.values)\n",
    " \n",
    "# Predict the model\n",
    "pred = xgb_r.predict(X_test)\n",
    " \n",
    "# RMSE Computation\n",
    "rmse = np.sqrt(MSE(y_test, pred))\n",
    "print(\"RMSE : % f\" %(rmse))\n",
    "abs_error = rmse*stats['charges']['std'] + stats['charges']['std']\n",
    "print(f\"abs_error : {abs_error} $\")\n"
   ]
  },
  {
   "cell_type": "markdown",
   "metadata": {},
   "source": [
    "inference"
   ]
  },
  {
   "cell_type": "code",
   "execution_count": null,
   "metadata": {},
   "outputs": [],
   "source": [
    "with open('data/scaled/stats.json', 'r') as file:\n",
    "    stats = json.load(file)\n",
    "\n",
    "age = 35 # years old\n",
    "height = 1.78 # m\n",
    "weight = 75 # kg\n",
    "bmi = weight / (height**2)\n",
    "children = 2\n",
    "smoker = 1\n",
    "gender = 0\n",
    "\n",
    "age = (age - stats[\"age\"][\"mean\"]) / stats[\"age\"][\"std\"]\n",
    "bmi = (bmi - stats[\"bmi\"][\"mean\"]) / stats[\"bmi\"][\"std\"]\n",
    "children = (children - stats[\"children\"][\"mean\"]) / stats[\"children\"][\"std\"]\n",
    "\n",
    "inputs = [age, bmi, children, smoker, gender]\n",
    "\n",
    "prediction = xgb_r.predict(pd.DataFrame(inputs).to_numpy().T)\n",
    "prediction = prediction * stats[\"charges\"][\"std\"] + stats[\"charges\"][\"mean\"]\n",
    "prediction"
   ]
  }
 ],
 "metadata": {
  "kernelspec": {
   "display_name": "Python 3.9.13 ('torch')",
   "language": "python",
   "name": "python3"
  },
  "language_info": {
   "codemirror_mode": {
    "name": "ipython",
    "version": 3
   },
   "file_extension": ".py",
   "mimetype": "text/x-python",
   "name": "python",
   "nbconvert_exporter": "python",
   "pygments_lexer": "ipython3",
   "version": "3.9.13"
  },
  "orig_nbformat": 4,
  "vscode": {
   "interpreter": {
    "hash": "820e22f10e4b19fbc91e692a62b2bf108cd15a872c46ef2b111e4a3b5d5b7eed"
   }
  }
 },
 "nbformat": 4,
 "nbformat_minor": 2
}
